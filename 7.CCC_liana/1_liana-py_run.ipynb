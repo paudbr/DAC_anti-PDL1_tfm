{
 "cells": [
  {
   "cell_type": "markdown",
   "id": "f67680ae",
   "metadata": {},
   "source": [
    "# LIANA"
   ]
  },
  {
   "cell_type": "code",
   "execution_count": 38,
   "id": "79eabb0d-af16-4baa-a0e8-7ff0f66028d4",
   "metadata": {},
   "outputs": [],
   "source": [
    "# import liana\n",
    "import liana as li\n",
    "# needed for visualization and toy data\n",
    "import scanpy as sc\n",
    "import pandas as pd\n",
    "import numpy as np\n",
    "import anndata as ad\n",
    "from scipy import sparse\n",
    "import cell2cell"
   ]
  },
  {
   "cell_type": "code",
   "execution_count": 13,
   "id": "20b8ea73-7a9e-4c3a-a86b-893e200edb40",
   "metadata": {},
   "outputs": [
    {
     "data": {
      "text/plain": [
       "'/root/workdir/HDAC_tfm/scripts/liana-py'"
      ]
     },
     "execution_count": 13,
     "metadata": {},
     "output_type": "execute_result"
    }
   ],
   "source": [
    "pwd"
   ]
  },
  {
   "cell_type": "code",
   "execution_count": 23,
   "id": "819e53f3-4df0-469f-97d8-375ca4ceb169",
   "metadata": {},
   "outputs": [],
   "source": [
    "import warnings\n",
    "warnings.filterwarnings('ignore')"
   ]
  },
  {
   "cell_type": "code",
   "execution_count": 16,
   "id": "ea4e5a16-e0fb-41b6-b019-27898b75a335",
   "metadata": {},
   "outputs": [],
   "source": [
    "#X = pd.read_csv(\"/root/workdir/HDAC_tfm/data/anndata/logcounts.csv\", index_col=0)\n",
    "#obs = pd.read_csv(\"/root/workdir/HDAC_tfm/data/anndata/obs.csv\", index_col=0)\n",
    "#var = pd.read_csv(\"/root/workdir/HDAC_tfm/data/anndata/var.csv\", index_col=0)\n",
    "\n",
    "# Transponer X si tiene forma (genes x células) → debe ser (células x genes)\n",
    "#if X.shape[0] == var.shape[0] and X.shape[1] == obs.shape[0]:\n",
    "    #X = X.T\n",
    "\n",
    "# Convertir a matriz dispersa (opcional, pero recomendable para ahorrar memoria)\n",
    "#X_sparse = sparse.csr_matrix(X.values)\n",
    "\n",
    "# Crear el objeto AnnData\n",
    "#adata = ad.AnnData(X=X_sparse, obs=obs, var=var)\n",
    "\n",
    "# Guardar en formato .h5ad\n",
    "#adata.write(\"/root/workdir/HDAC_tfm/data/anndata/sce_object_human.h5ad\")"
   ]
  },
  {
   "cell_type": "code",
   "execution_count": 17,
   "id": "4f7adc1d-8c18-4e60-8e72-295e6c1519c8",
   "metadata": {},
   "outputs": [],
   "source": [
    "adata = sc.read_h5ad(\"/root/workdir/HDAC_tfm/data/anndata/sce_object_human.h5ad\")"
   ]
  },
  {
   "cell_type": "code",
   "execution_count": 18,
   "id": "334ac442-fb00-41b2-b96b-c91707805989",
   "metadata": {},
   "outputs": [
    {
     "data": {
      "text/plain": [
       "AnnData object with n_obs × n_vars = 72650 × 16652\n",
       "    obs: 'orig.ident', 'nCount_RNA', 'nFeature_RNA', 'sample', 'species', 'gene_count', 'tscp_count', 'mread_count', 'bc1_wind', 'bc2_wind', 'bc3_wind', 'bc1_well', 'bc2_well', 'bc3_well', 'percent.mt', 'percent.rb', 'percent.hb', 'integrated_snn_res.0.095', 'seurat_clusters', 'integrated_snn_res.0.09', 'immuno', 'ident'\n",
       "    var: 'Unnamed: 0'"
      ]
     },
     "execution_count": 18,
     "metadata": {},
     "output_type": "execute_result"
    }
   ],
   "source": [
    "adata"
   ]
  },
  {
   "cell_type": "code",
   "execution_count": 19,
   "id": "5d0a82d0-ee68-48ef-bc79-c36906cec97d",
   "metadata": {},
   "outputs": [
    {
     "data": {
      "text/html": [
       "<div>\n",
       "<style scoped>\n",
       "    .dataframe tbody tr th:only-of-type {\n",
       "        vertical-align: middle;\n",
       "    }\n",
       "\n",
       "    .dataframe tbody tr th {\n",
       "        vertical-align: top;\n",
       "    }\n",
       "\n",
       "    .dataframe thead th {\n",
       "        text-align: right;\n",
       "    }\n",
       "</style>\n",
       "<table border=\"1\" class=\"dataframe\">\n",
       "  <thead>\n",
       "    <tr style=\"text-align: right;\">\n",
       "      <th></th>\n",
       "      <th>Method Name</th>\n",
       "      <th>Magnitude Score</th>\n",
       "      <th>Specificity Score</th>\n",
       "      <th>Reference</th>\n",
       "    </tr>\n",
       "  </thead>\n",
       "  <tbody>\n",
       "    <tr>\n",
       "      <th>0</th>\n",
       "      <td>CellPhoneDB</td>\n",
       "      <td>lr_means</td>\n",
       "      <td>cellphone_pvals</td>\n",
       "      <td>Efremova, M., Vento-Tormo, M., Teichmann, S.A....</td>\n",
       "    </tr>\n",
       "    <tr>\n",
       "      <th>0</th>\n",
       "      <td>Connectome</td>\n",
       "      <td>expr_prod</td>\n",
       "      <td>scaled_weight</td>\n",
       "      <td>Raredon, M.S.B., Yang, J., Garritano, J., Wang...</td>\n",
       "    </tr>\n",
       "    <tr>\n",
       "      <th>0</th>\n",
       "      <td>log2FC</td>\n",
       "      <td>None</td>\n",
       "      <td>lr_logfc</td>\n",
       "      <td>Dimitrov, D., Türei, D., Garrido-Rodriguez, M....</td>\n",
       "    </tr>\n",
       "    <tr>\n",
       "      <th>0</th>\n",
       "      <td>NATMI</td>\n",
       "      <td>expr_prod</td>\n",
       "      <td>spec_weight</td>\n",
       "      <td>Hou, R., Denisenko, E., Ong, H.T., Ramilowski,...</td>\n",
       "    </tr>\n",
       "    <tr>\n",
       "      <th>0</th>\n",
       "      <td>SingleCellSignalR</td>\n",
       "      <td>lrscore</td>\n",
       "      <td>None</td>\n",
       "      <td>Cabello-Aguilar, S., Alame, M., Kon-Sun-Tack, ...</td>\n",
       "    </tr>\n",
       "    <tr>\n",
       "      <th>0</th>\n",
       "      <td>Rank_Aggregate</td>\n",
       "      <td>magnitude_rank</td>\n",
       "      <td>specificity_rank</td>\n",
       "      <td>Dimitrov, D., Türei, D., Garrido-Rodriguez, M....</td>\n",
       "    </tr>\n",
       "    <tr>\n",
       "      <th>0</th>\n",
       "      <td>Geometric Mean</td>\n",
       "      <td>lr_gmeans</td>\n",
       "      <td>gmean_pvals</td>\n",
       "      <td>CellPhoneDBv2's permutation approach applied t...</td>\n",
       "    </tr>\n",
       "    <tr>\n",
       "      <th>0</th>\n",
       "      <td>scSeqComm</td>\n",
       "      <td>inter_score</td>\n",
       "      <td>None</td>\n",
       "      <td>Baruzzo, G., Cesaro, G., Di Camillo, B. 2022. ...</td>\n",
       "    </tr>\n",
       "    <tr>\n",
       "      <th>0</th>\n",
       "      <td>CellChat</td>\n",
       "      <td>lr_probs</td>\n",
       "      <td>cellchat_pvals</td>\n",
       "      <td>Jin, S., Guerrero-Juarez, C.F., Zhang, L., Cha...</td>\n",
       "    </tr>\n",
       "  </tbody>\n",
       "</table>\n",
       "</div>"
      ],
      "text/plain": [
       "         Method Name Magnitude Score Specificity Score  \\\n",
       "0        CellPhoneDB        lr_means   cellphone_pvals   \n",
       "0         Connectome       expr_prod     scaled_weight   \n",
       "0             log2FC            None          lr_logfc   \n",
       "0              NATMI       expr_prod       spec_weight   \n",
       "0  SingleCellSignalR         lrscore              None   \n",
       "0     Rank_Aggregate  magnitude_rank  specificity_rank   \n",
       "0     Geometric Mean       lr_gmeans       gmean_pvals   \n",
       "0          scSeqComm     inter_score              None   \n",
       "0           CellChat        lr_probs    cellchat_pvals   \n",
       "\n",
       "                                           Reference  \n",
       "0  Efremova, M., Vento-Tormo, M., Teichmann, S.A....  \n",
       "0  Raredon, M.S.B., Yang, J., Garritano, J., Wang...  \n",
       "0  Dimitrov, D., Türei, D., Garrido-Rodriguez, M....  \n",
       "0  Hou, R., Denisenko, E., Ong, H.T., Ramilowski,...  \n",
       "0  Cabello-Aguilar, S., Alame, M., Kon-Sun-Tack, ...  \n",
       "0  Dimitrov, D., Türei, D., Garrido-Rodriguez, M....  \n",
       "0  CellPhoneDBv2's permutation approach applied t...  \n",
       "0  Baruzzo, G., Cesaro, G., Di Camillo, B. 2022. ...  \n",
       "0  Jin, S., Guerrero-Juarez, C.F., Zhang, L., Cha...  "
      ]
     },
     "execution_count": 19,
     "metadata": {},
     "output_type": "execute_result"
    }
   ],
   "source": [
    "li.method.show_methods()"
   ]
  },
  {
   "cell_type": "markdown",
   "id": "36cd5258-bab7-4d27-ac89-d4d2c04a0d67",
   "metadata": {},
   "source": [
    "I will use consensus of these ones!! Important not to use log2FC because for Tensor-cell2cell there can not be negative values!!"
   ]
  },
  {
   "cell_type": "code",
   "execution_count": 20,
   "id": "0b00a85f-9487-4bfa-8ad2-f8860782d106",
   "metadata": {},
   "outputs": [
    {
     "name": "stdout",
     "output_type": "stream",
     "text": [
      "['Cancer cells', 'Endothelial', 'Natural killer  cells', 'Macrophages', 'Pro-B cells', 'Naive CD8+ T cells', 'Plasmacytoid Dendritic cells', 'Pre-B cells']\n",
      "Categories (8, object): ['Cancer cells', 'Endothelial', 'Macrophages', 'Naive CD8+ T cells', 'Natural killer  cells', 'Plasmacytoid Dendritic cells', 'Pre-B cells', 'Pro-B cells']\n"
     ]
    }
   ],
   "source": [
    "immuno_values = adata.obs['immuno']\n",
    "\n",
    "print(immuno_values.unique())"
   ]
  },
  {
   "cell_type": "code",
   "execution_count": 24,
   "id": "7f216653-01cb-4957-b14d-5080e96b0287",
   "metadata": {},
   "outputs": [
    {
     "name": "stderr",
     "output_type": "stream",
     "text": [
      "Now running: KAP25L_control: 100%|████████████████████████████████████████████| 8/8 [02:23<00:00, 17.95s/it]\n"
     ]
    }
   ],
   "source": [
    "li.mt.rank_aggregate.by_sample(adata,\n",
    "                               sample_key='sample',\n",
    "                               groupby='immuno',\n",
    "                               resource_name = 'consensus',\n",
    "                               expr_prop=0.1, # must be expressed in expr_prop fraction of cells\n",
    "                               min_cells = 5,\n",
    "                               n_perms = 100,\n",
    "                               use_raw = False, # run on log- and library-normalized counts\n",
    "                               verbose = True,\n",
    "                               inplace = True,\n",
    "                               return_all_lrs=True, # return all LR values\n",
    "                              )"
   ]
  },
  {
   "cell_type": "code",
   "execution_count": 25,
   "id": "8967afe3-8348-4270-a7ad-be9e2c5afd27",
   "metadata": {},
   "outputs": [
    {
     "data": {
      "text/html": [
       "<div>\n",
       "<style scoped>\n",
       "    .dataframe tbody tr th:only-of-type {\n",
       "        vertical-align: middle;\n",
       "    }\n",
       "\n",
       "    .dataframe tbody tr th {\n",
       "        vertical-align: top;\n",
       "    }\n",
       "\n",
       "    .dataframe thead th {\n",
       "        text-align: right;\n",
       "    }\n",
       "</style>\n",
       "<table border=\"1\" class=\"dataframe\">\n",
       "  <thead>\n",
       "    <tr style=\"text-align: right;\">\n",
       "      <th></th>\n",
       "      <th>sample</th>\n",
       "      <th>source</th>\n",
       "      <th>target</th>\n",
       "      <th>ligand_complex</th>\n",
       "      <th>receptor_complex</th>\n",
       "      <th>lr_means</th>\n",
       "      <th>cellphone_pvals</th>\n",
       "      <th>expr_prod</th>\n",
       "      <th>scaled_weight</th>\n",
       "      <th>lr_logfc</th>\n",
       "      <th>spec_weight</th>\n",
       "      <th>lrscore</th>\n",
       "      <th>specificity_rank</th>\n",
       "      <th>magnitude_rank</th>\n",
       "    </tr>\n",
       "  </thead>\n",
       "  <tbody>\n",
       "    <tr>\n",
       "      <th>0</th>\n",
       "      <td>KAP25L-UV_Combination</td>\n",
       "      <td>Macrophages</td>\n",
       "      <td>Naive CD8+ T cells</td>\n",
       "      <td>MRC1</td>\n",
       "      <td>PTPRC</td>\n",
       "      <td>2.974149</td>\n",
       "      <td>0.0</td>\n",
       "      <td>8.830788</td>\n",
       "      <td>2.457145</td>\n",
       "      <td>4.214756</td>\n",
       "      <td>0.459048</td>\n",
       "      <td>0.939541</td>\n",
       "      <td>1.724807e-08</td>\n",
       "      <td>5.778168e-10</td>\n",
       "    </tr>\n",
       "    <tr>\n",
       "      <th>1</th>\n",
       "      <td>KAP25L-UV_Combination</td>\n",
       "      <td>Natural killer  cells</td>\n",
       "      <td>Pre-B cells</td>\n",
       "      <td>SPON1</td>\n",
       "      <td>APP</td>\n",
       "      <td>2.897716</td>\n",
       "      <td>0.0</td>\n",
       "      <td>8.384596</td>\n",
       "      <td>1.481714</td>\n",
       "      <td>2.660393</td>\n",
       "      <td>0.147084</td>\n",
       "      <td>0.938052</td>\n",
       "      <td>4.239494e-06</td>\n",
       "      <td>2.311255e-09</td>\n",
       "    </tr>\n",
       "    <tr>\n",
       "      <th>2</th>\n",
       "      <td>KAP25L-UV_Combination</td>\n",
       "      <td>Pro-B cells</td>\n",
       "      <td>Plasmacytoid Dendritic cells</td>\n",
       "      <td>FGF13</td>\n",
       "      <td>FGFR2</td>\n",
       "      <td>2.751034</td>\n",
       "      <td>0.0</td>\n",
       "      <td>7.539707</td>\n",
       "      <td>2.804802</td>\n",
       "      <td>2.542878</td>\n",
       "      <td>0.089459</td>\n",
       "      <td>0.934893</td>\n",
       "      <td>4.239494e-06</td>\n",
       "      <td>9.244920e-09</td>\n",
       "    </tr>\n",
       "    <tr>\n",
       "      <th>3</th>\n",
       "      <td>KAP25L-UV_Combination</td>\n",
       "      <td>Pro-B cells</td>\n",
       "      <td>Pre-B cells</td>\n",
       "      <td>FGF13</td>\n",
       "      <td>FGFR1</td>\n",
       "      <td>2.678331</td>\n",
       "      <td>0.0</td>\n",
       "      <td>7.115149</td>\n",
       "      <td>3.259270</td>\n",
       "      <td>2.886946</td>\n",
       "      <td>0.177293</td>\n",
       "      <td>0.933106</td>\n",
       "      <td>3.850075e-06</td>\n",
       "      <td>1.444511e-08</td>\n",
       "    </tr>\n",
       "    <tr>\n",
       "      <th>4</th>\n",
       "      <td>KAP25L-UV_Combination</td>\n",
       "      <td>Macrophages</td>\n",
       "      <td>Macrophages</td>\n",
       "      <td>MRC1</td>\n",
       "      <td>PTPRC</td>\n",
       "      <td>2.656271</td>\n",
       "      <td>0.0</td>\n",
       "      <td>6.862673</td>\n",
       "      <td>2.107425</td>\n",
       "      <td>4.239426</td>\n",
       "      <td>0.356740</td>\n",
       "      <td>0.931970</td>\n",
       "      <td>9.870821e-08</td>\n",
       "      <td>2.080085e-08</td>\n",
       "    </tr>\n",
       "  </tbody>\n",
       "</table>\n",
       "</div>"
      ],
      "text/plain": [
       "                  sample                 source                        target  \\\n",
       "0  KAP25L-UV_Combination            Macrophages            Naive CD8+ T cells   \n",
       "1  KAP25L-UV_Combination  Natural killer  cells                   Pre-B cells   \n",
       "2  KAP25L-UV_Combination            Pro-B cells  Plasmacytoid Dendritic cells   \n",
       "3  KAP25L-UV_Combination            Pro-B cells                   Pre-B cells   \n",
       "4  KAP25L-UV_Combination            Macrophages                   Macrophages   \n",
       "\n",
       "  ligand_complex receptor_complex  lr_means  cellphone_pvals  expr_prod  \\\n",
       "0           MRC1            PTPRC  2.974149              0.0   8.830788   \n",
       "1          SPON1              APP  2.897716              0.0   8.384596   \n",
       "2          FGF13            FGFR2  2.751034              0.0   7.539707   \n",
       "3          FGF13            FGFR1  2.678331              0.0   7.115149   \n",
       "4           MRC1            PTPRC  2.656271              0.0   6.862673   \n",
       "\n",
       "   scaled_weight  lr_logfc  spec_weight   lrscore  specificity_rank  \\\n",
       "0       2.457145  4.214756     0.459048  0.939541      1.724807e-08   \n",
       "1       1.481714  2.660393     0.147084  0.938052      4.239494e-06   \n",
       "2       2.804802  2.542878     0.089459  0.934893      4.239494e-06   \n",
       "3       3.259270  2.886946     0.177293  0.933106      3.850075e-06   \n",
       "4       2.107425  4.239426     0.356740  0.931970      9.870821e-08   \n",
       "\n",
       "   magnitude_rank  \n",
       "0    5.778168e-10  \n",
       "1    2.311255e-09  \n",
       "2    9.244920e-09  \n",
       "3    1.444511e-08  \n",
       "4    2.080085e-08  "
      ]
     },
     "execution_count": 25,
     "metadata": {},
     "output_type": "execute_result"
    }
   ],
   "source": [
    "adata.uns['liana_res'].head()"
   ]
  },
  {
   "cell_type": "code",
   "execution_count": 29,
   "id": "ab18c1a0-0b03-4bfa-95fd-fdaeec6a13ef",
   "metadata": {},
   "outputs": [],
   "source": [
    "adata.uns['liana_res'].to_csv('/root/workdir/HDAC_tfm/data/anndata/LIANA_by_sample.csv', index=False)"
   ]
  },
  {
   "cell_type": "code",
   "execution_count": 32,
   "id": "0ba16450-906a-4f2e-9843-bc1baa44c17d",
   "metadata": {},
   "outputs": [],
   "source": [
    "sorted_samples = sorted(adata.obs['sample'].unique())"
   ]
  },
  {
   "cell_type": "code",
   "execution_count": 35,
   "id": "882e2938-66e0-4cc1-8dd4-875f3ec3e747",
   "metadata": {},
   "outputs": [
    {
     "data": {
      "text/html": [
       "<div>\n",
       "<style scoped>\n",
       "    .dataframe tbody tr th:only-of-type {\n",
       "        vertical-align: middle;\n",
       "    }\n",
       "\n",
       "    .dataframe tbody tr th {\n",
       "        vertical-align: top;\n",
       "    }\n",
       "\n",
       "    .dataframe thead th {\n",
       "        text-align: right;\n",
       "    }\n",
       "</style>\n",
       "<table border=\"1\" class=\"dataframe\">\n",
       "  <thead>\n",
       "    <tr style=\"text-align: right;\">\n",
       "      <th></th>\n",
       "      <th>sample</th>\n",
       "      <th>source</th>\n",
       "      <th>target</th>\n",
       "      <th>ligand_complex</th>\n",
       "      <th>receptor_complex</th>\n",
       "      <th>lr_means</th>\n",
       "      <th>cellphone_pvals</th>\n",
       "      <th>expr_prod</th>\n",
       "      <th>scaled_weight</th>\n",
       "      <th>lr_logfc</th>\n",
       "      <th>spec_weight</th>\n",
       "      <th>lrscore</th>\n",
       "      <th>specificity_rank</th>\n",
       "      <th>magnitude_rank</th>\n",
       "    </tr>\n",
       "  </thead>\n",
       "  <tbody>\n",
       "    <tr>\n",
       "      <th>0</th>\n",
       "      <td>KAP25L-UV_Combination</td>\n",
       "      <td>Macrophages</td>\n",
       "      <td>Naive CD8+ T cells</td>\n",
       "      <td>MRC1</td>\n",
       "      <td>PTPRC</td>\n",
       "      <td>2.974149</td>\n",
       "      <td>0.0</td>\n",
       "      <td>8.830788</td>\n",
       "      <td>2.457145</td>\n",
       "      <td>4.214756</td>\n",
       "      <td>0.459048</td>\n",
       "      <td>0.939541</td>\n",
       "      <td>1.724807e-08</td>\n",
       "      <td>5.778168e-10</td>\n",
       "    </tr>\n",
       "    <tr>\n",
       "      <th>1</th>\n",
       "      <td>KAP25L-UV_Combination</td>\n",
       "      <td>Natural killer  cells</td>\n",
       "      <td>Pre-B cells</td>\n",
       "      <td>SPON1</td>\n",
       "      <td>APP</td>\n",
       "      <td>2.897716</td>\n",
       "      <td>0.0</td>\n",
       "      <td>8.384596</td>\n",
       "      <td>1.481714</td>\n",
       "      <td>2.660393</td>\n",
       "      <td>0.147084</td>\n",
       "      <td>0.938052</td>\n",
       "      <td>4.239494e-06</td>\n",
       "      <td>2.311255e-09</td>\n",
       "    </tr>\n",
       "    <tr>\n",
       "      <th>2</th>\n",
       "      <td>KAP25L-UV_Combination</td>\n",
       "      <td>Pro-B cells</td>\n",
       "      <td>Plasmacytoid Dendritic cells</td>\n",
       "      <td>FGF13</td>\n",
       "      <td>FGFR2</td>\n",
       "      <td>2.751034</td>\n",
       "      <td>0.0</td>\n",
       "      <td>7.539707</td>\n",
       "      <td>2.804802</td>\n",
       "      <td>2.542878</td>\n",
       "      <td>0.089459</td>\n",
       "      <td>0.934893</td>\n",
       "      <td>4.239494e-06</td>\n",
       "      <td>9.244920e-09</td>\n",
       "    </tr>\n",
       "    <tr>\n",
       "      <th>3</th>\n",
       "      <td>KAP25L-UV_Combination</td>\n",
       "      <td>Pro-B cells</td>\n",
       "      <td>Pre-B cells</td>\n",
       "      <td>FGF13</td>\n",
       "      <td>FGFR1</td>\n",
       "      <td>2.678331</td>\n",
       "      <td>0.0</td>\n",
       "      <td>7.115149</td>\n",
       "      <td>3.259270</td>\n",
       "      <td>2.886946</td>\n",
       "      <td>0.177293</td>\n",
       "      <td>0.933106</td>\n",
       "      <td>3.850075e-06</td>\n",
       "      <td>1.444511e-08</td>\n",
       "    </tr>\n",
       "    <tr>\n",
       "      <th>4</th>\n",
       "      <td>KAP25L-UV_Combination</td>\n",
       "      <td>Macrophages</td>\n",
       "      <td>Macrophages</td>\n",
       "      <td>MRC1</td>\n",
       "      <td>PTPRC</td>\n",
       "      <td>2.656271</td>\n",
       "      <td>0.0</td>\n",
       "      <td>6.862673</td>\n",
       "      <td>2.107425</td>\n",
       "      <td>4.239426</td>\n",
       "      <td>0.356740</td>\n",
       "      <td>0.931970</td>\n",
       "      <td>9.870821e-08</td>\n",
       "      <td>2.080085e-08</td>\n",
       "    </tr>\n",
       "  </tbody>\n",
       "</table>\n",
       "</div>"
      ],
      "text/plain": [
       "                  sample                 source                        target  \\\n",
       "0  KAP25L-UV_Combination            Macrophages            Naive CD8+ T cells   \n",
       "1  KAP25L-UV_Combination  Natural killer  cells                   Pre-B cells   \n",
       "2  KAP25L-UV_Combination            Pro-B cells  Plasmacytoid Dendritic cells   \n",
       "3  KAP25L-UV_Combination            Pro-B cells                   Pre-B cells   \n",
       "4  KAP25L-UV_Combination            Macrophages                   Macrophages   \n",
       "\n",
       "  ligand_complex receptor_complex  lr_means  cellphone_pvals  expr_prod  \\\n",
       "0           MRC1            PTPRC  2.974149              0.0   8.830788   \n",
       "1          SPON1              APP  2.897716              0.0   8.384596   \n",
       "2          FGF13            FGFR2  2.751034              0.0   7.539707   \n",
       "3          FGF13            FGFR1  2.678331              0.0   7.115149   \n",
       "4           MRC1            PTPRC  2.656271              0.0   6.862673   \n",
       "\n",
       "   scaled_weight  lr_logfc  spec_weight   lrscore  specificity_rank  \\\n",
       "0       2.457145  4.214756     0.459048  0.939541      1.724807e-08   \n",
       "1       1.481714  2.660393     0.147084  0.938052      4.239494e-06   \n",
       "2       2.804802  2.542878     0.089459  0.934893      4.239494e-06   \n",
       "3       3.259270  2.886946     0.177293  0.933106      3.850075e-06   \n",
       "4       2.107425  4.239426     0.356740  0.931970      9.870821e-08   \n",
       "\n",
       "   magnitude_rank  \n",
       "0    5.778168e-10  \n",
       "1    2.311255e-09  \n",
       "2    9.244920e-09  \n",
       "3    1.444511e-08  \n",
       "4    2.080085e-08  "
      ]
     },
     "execution_count": 35,
     "metadata": {},
     "output_type": "execute_result"
    }
   ],
   "source": [
    "adata.uns['liana_res'].head()"
   ]
  },
  {
   "cell_type": "code",
   "execution_count": 40,
   "id": "be1fc94e-47a3-4aeb-abb2-926648b5150f",
   "metadata": {},
   "outputs": [],
   "source": [
    "adata.obs[['cell_line', 'treat']] = adata.obs['sample'].str.split('_', expand=True)"
   ]
  },
  {
   "cell_type": "code",
   "execution_count": 41,
   "id": "17dc5a44-0db8-4dc6-ab7d-2f10e96e8888",
   "metadata": {},
   "outputs": [
    {
     "name": "stderr",
     "output_type": "stream",
     "text": [
      "... storing 'cell_line' as categorical\n",
      "... storing 'treat' as categorical\n"
     ]
    }
   ],
   "source": [
    "adata.write_h5ad('/root/workdir/HDAC_tfm/data/anndata/homan_adata_processed_27_05.h5ad')"
   ]
  },
  {
   "cell_type": "code",
   "execution_count": 39,
   "id": "70cea736-72f3-49a4-a1e0-86a596562d37",
   "metadata": {},
   "outputs": [
    {
     "name": "stderr",
     "output_type": "stream",
     "text": [
      "100%|█████████████████████████████████████████████████████████████████████████| 8/8 [05:12<00:00, 39.07s/it]\n"
     ]
    }
   ],
   "source": [
    "# build the tensor\n",
    "tensor = li.multi.to_tensor_c2c(liana_res=adata.uns['liana_res'], # LIANA's dataframe containing results\n",
    "                                sample_key='sample', # Column name of the samples\n",
    "                                source_key='source', # Column name of the sender cells\n",
    "                                target_key='target', # Column name of the receiver cells\n",
    "                                ligand_key='ligand_complex', # Column name of the ligands\n",
    "                                receptor_key='receptor_complex', # Column name of the receptors\n",
    "                                score_key='magnitude_rank', # Column name of the communication scores to use\n",
    "                                inverse_fun=lambda x: 1 - x, # Transformation function\n",
    "                                how='outer_cells', # What to include across all samples\n",
    "                                outer_fraction=1/3, # Fraction of samples as threshold to include cells and LR pairs.\n",
    "                                context_order=sorted_samples, # Order to store the contexts in the tensor\n",
    "                               )"
   ]
  },
  {
   "cell_type": "code",
   "execution_count": 42,
   "id": "1de701b8-13f1-4054-b5e6-dd8be2a283ea",
   "metadata": {},
   "outputs": [],
   "source": [
    "context_dict = adata.obs.sort_values(by='sample') \\\n",
    "                        .set_index('sample')['cell_line'] \\\n",
    "                        .to_dict()"
   ]
  },
  {
   "cell_type": "code",
   "execution_count": 44,
   "id": "a09880eb-0a42-437a-a2b5-e845bb406372",
   "metadata": {},
   "outputs": [],
   "source": [
    "dimensions_dict = [context_dict, None, None, None]\n",
    "meta_tensor = cell2cell.tensor.generate_tensor_metadata(interaction_tensor=tensor,\n",
    "                                                  metadata_dicts=dimensions_dict,\n",
    "                                                  fill_with_order_elements=True\n",
    "                                                 )"
   ]
  },
  {
   "cell_type": "code",
   "execution_count": 45,
   "id": "1ada7c05-391f-40c3-99ac-aeaa867a1a74",
   "metadata": {},
   "outputs": [
    {
     "name": "stdout",
     "output_type": "stream",
     "text": [
      "/root/workdir/HDAC_tfm/data/anndata/Tensor.pkl  was correctly saved.\n",
      "/root/workdir/HDAC_tfm/data/anndata/Tensor-Metadata.pkl  was correctly saved.\n"
     ]
    }
   ],
   "source": [
    "cell2cell.io.export_variable_with_pickle(variable=tensor,\n",
    "                                   filename='/root/workdir/HDAC_tfm/data/anndata/Tensor.pkl')\n",
    "cell2cell.io.export_variable_with_pickle(variable=meta_tensor,\n",
    "                                   filename='/root/workdir/HDAC_tfm/data/anndata/Tensor-Metadata.pkl')"
   ]
  },
  {
   "cell_type": "code",
   "execution_count": 46,
   "id": "3fa0dd41-d10a-415b-8932-7e3a0fe440b3",
   "metadata": {},
   "outputs": [
    {
     "name": "stderr",
     "output_type": "stream",
     "text": [
      "100%|███████████████████████████████████████████████████████████████████████| 64/64 [00:29<00:00,  2.16it/s]\n"
     ]
    }
   ],
   "source": [
    "mdata = li.multi.lrs_to_views(adata,\n",
    "                              sample_key='sample',\n",
    "                              score_key='magnitude_rank',\n",
    "                              obs_keys=['treat', 'cell_line'], # add those to mdata.obs\n",
    "                              lr_prop = 0.3, # minimum required proportion of samples to keep an LR\n",
    "                              lrs_per_sample = 20, # minimum number of interactions to keep a sample in a specific view\n",
    "                              lrs_per_view = 20, # minimum number of interactions to keep a view\n",
    "                              samples_per_view = 5, # NOTE: minimum number of samples to keep a view\n",
    "                              min_variance = 0, # minimum variance to keep an interaction\n",
    "                              lr_fill = 0, # fill missing LR values across samples with this\n",
    "                              verbose=True\n",
    "                              )"
   ]
  },
  {
   "cell_type": "code",
   "execution_count": 47,
   "id": "1907c82c-cd00-4673-acc7-c078941bf390",
   "metadata": {},
   "outputs": [],
   "source": [
    "import mudata"
   ]
  },
  {
   "cell_type": "code",
   "execution_count": 48,
   "id": "fc7ce9cb-f1dc-4ccd-a109-bcf3c87ae561",
   "metadata": {},
   "outputs": [],
   "source": [
    "mdata.write(\"/root/workdir/HDAC_tfm/data/anndata/Mudata_human_27_05.h5mu\")"
   ]
  },
  {
   "cell_type": "code",
   "execution_count": null,
   "id": "5f8237b8-cfca-44c5-b8d9-996e2dddfca1",
   "metadata": {},
   "outputs": [],
   "source": []
  },
  {
   "cell_type": "code",
   "execution_count": 27,
   "id": "c80dd2af-ae2c-4814-9589-c4eee02cae86",
   "metadata": {},
   "outputs": [],
   "source": [
    "plot = li.pl.dotplot_by_sample(adata=adata,\n",
    "                               colour='magnitude_rank',\n",
    "                               size='specificity_rank',\n",
    "                               source_labels = c[\"Cancer cells\"],\n",
    "                               sample_key='sample',\n",
    "                               inverse_colour=True,\n",
    "                               inverse_size=True,\n",
    "                               figure_size=(12, 9),\n",
    "                               size_range=(1, 6),\n",
    "                               )"
   ]
  },
  {
   "cell_type": "code",
   "execution_count": null,
   "id": "aa6f793d-67fd-4739-a612-c2e66153127f",
   "metadata": {},
   "outputs": [],
   "source": []
  }
 ],
 "metadata": {
  "kernelspec": {
   "display_name": "Python 3 (ipykernel)",
   "language": "python",
   "name": "python3"
  },
  "language_info": {
   "codemirror_mode": {
    "name": "ipython",
    "version": 3
   },
   "file_extension": ".py",
   "mimetype": "text/x-python",
   "name": "python",
   "nbconvert_exporter": "python",
   "pygments_lexer": "ipython3",
   "version": "3.10.17"
  }
 },
 "nbformat": 4,
 "nbformat_minor": 5
}
